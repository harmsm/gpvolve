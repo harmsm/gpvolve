{
 "cells": [
  {
   "cell_type": "markdown",
   "metadata": {},
   "source": [
    "# Introduction to `gpvolve`"
   ]
  },
  {
   "cell_type": "code",
   "execution_count": 1,
   "metadata": {},
   "outputs": [],
   "source": [
    "# Import gpvolve functions explicitly.\n",
    "from gpvolve import GenotypePhenotypeMSM\n",
    "from gpvolve.fitness import one_to_one\n",
    "from gpvolve.fixation import mccandlish\n",
    "from gpvolve.flux import TransitionPathTheory\n",
    "from gpvolve.visualization import plot_network, plot_matrix\n",
    "from gpvolve.paths import flux_decomp\n",
    "from gpvolve.utils import *\n",
    "from gpvolve.cluster.pcca import PCCA\n",
    "from gpvolve.cluster.base import GenotypePhenotypeClusters\n",
    "from gpvolve.cluster.utils import *\n",
    "from gpvolve.analysis.pathways import *"
   ]
  },
  {
   "cell_type": "code",
   "execution_count": 2,
   "metadata": {},
   "outputs": [],
   "source": [
    "# Import gpmap for genotype-phenotype data handling\n",
    "from gpmap.simulate import MultiPeakMountFujiSimulation, MountFujiSimulation"
   ]
  },
  {
   "cell_type": "code",
   "execution_count": 3,
   "metadata": {},
   "outputs": [],
   "source": [
    "# Helper and plotting functions.\n",
    "import matplotlib.pyplot as plt\n",
    "from scipy.sparse import dok_matrix\n",
    "import pickle"
   ]
  },
  {
   "cell_type": "markdown",
   "metadata": {},
   "source": [
    "## Load data\n",
    "\n",
    "Simulate 7-site map with 4 fitness peaks and then create a `GenotypePhenotypeMSM` object, which is the class used for building and analyzing a markov state model. \n",
    "\n",
    "You can also import exisiting genotype-phenotype data here. See the gpmap Python package for more information (https://github.com/harmslab/gpmap)"
   ]
  },
  {
   "cell_type": "code",
   "execution_count": 4,
   "metadata": {},
   "outputs": [],
   "source": [
    "gpm = MultiPeakMountFujiSimulation.from_length(7, peak_n=4, min_dist=2, roughness_width=0.2, field_strength=1)\n",
    "\n",
    "evomsm = GenotypePhenotypeMSM(gpm)"
   ]
  },
  {
   "cell_type": "markdown",
   "metadata": {},
   "source": [
    "## Build Markov model\n",
    "\n",
    "First we need to map a fitness value onto each phenotype. In this example we simple use phenotype values as fitnesses. The user can also pass their own fitness function here."
   ]
  },
  {
   "cell_type": "code",
   "execution_count": 5,
   "metadata": {},
   "outputs": [],
   "source": [
    "evomsm.apply_selection(one_to_one)"
   ]
  },
  {
   "cell_type": "markdown",
   "metadata": {},
   "source": [
    "Building the transition matrix requires the user to define a fixation probability function and all its required parameteres. Here, we use the fitness function by McCandlish (McCandlish, 2011) and a population size of 10."
   ]
  },
  {
   "cell_type": "code",
   "execution_count": 6,
   "metadata": {},
   "outputs": [
    {
     "name": "stderr",
     "output_type": "stream",
     "text": [
      "/Users/harmsm/work/programming/git-clones/gpvolve/gpvolve/markovmodel.py:235: UserWarning: The transition matrix is not connected.\n",
      "  warnings.warn(\"The transition matrix is not connected.\")\n"
     ]
    }
   ],
   "source": [
    "evomsm.build_transition_matrix(mccandlish, population_size=10)"
   ]
  },
  {
   "cell_type": "markdown",
   "metadata": {},
   "source": [
    "## Transition Path Theory\n",
    "\n",
    "Having built an evolutionary Markov model of the genotype-phenotype map, we can use Transition Path Theory to compute reactive flux that moves from the wild type to the 7-site mutant."
   ]
  },
  {
   "cell_type": "code",
   "execution_count": 7,
   "metadata": {},
   "outputs": [
    {
     "ename": "ValueError",
     "evalue": "Input matrix is not weakly connected. Therefore it has no unique stationary distribution. Separate disconnected components and handle them separately",
     "output_type": "error",
     "traceback": [
      "\u001b[0;31m---------------------------------------------------------------------------\u001b[0m",
      "\u001b[0;31mValueError\u001b[0m                                Traceback (most recent call last)",
      "\u001b[0;32m<ipython-input-7-fe2c4353c7b1>\u001b[0m in \u001b[0;36m<module>\u001b[0;34m\u001b[0m\n\u001b[1;32m      1\u001b[0m \u001b[0;31m# Compute reactive flux between wild type and 7-site mutant.\u001b[0m\u001b[0;34m\u001b[0m\u001b[0;34m\u001b[0m\u001b[0;34m\u001b[0m\u001b[0m\n\u001b[0;32m----> 2\u001b[0;31m \u001b[0mtpt\u001b[0m \u001b[0;34m=\u001b[0m \u001b[0mTransitionPathTheory\u001b[0m\u001b[0;34m(\u001b[0m\u001b[0mevomsm\u001b[0m\u001b[0;34m,\u001b[0m \u001b[0;34m[\u001b[0m\u001b[0;36m0\u001b[0m\u001b[0;34m]\u001b[0m\u001b[0;34m,\u001b[0m \u001b[0;34m[\u001b[0m\u001b[0;36m127\u001b[0m\u001b[0;34m]\u001b[0m\u001b[0;34m)\u001b[0m\u001b[0;34m\u001b[0m\u001b[0;34m\u001b[0m\u001b[0m\n\u001b[0m",
      "\u001b[0;32m~/work/programming/git-clones/gpvolve/gpvolve/flux.py\u001b[0m in \u001b[0;36m__init__\u001b[0;34m(self, EvoMSM, source, target)\u001b[0m\n\u001b[1;32m     82\u001b[0m         \u001b[0mself\u001b[0m\u001b[0;34m.\u001b[0m\u001b[0mtarget\u001b[0m \u001b[0;34m=\u001b[0m \u001b[0mtarget\u001b[0m\u001b[0;34m\u001b[0m\u001b[0;34m\u001b[0m\u001b[0m\n\u001b[1;32m     83\u001b[0m \u001b[0;34m\u001b[0m\u001b[0m\n\u001b[0;32m---> 84\u001b[0;31m         \u001b[0mself\u001b[0m\u001b[0;34m.\u001b[0m\u001b[0mReactiveFlux\u001b[0m \u001b[0;34m=\u001b[0m \u001b[0mtpt\u001b[0m\u001b[0;34m(\u001b[0m\u001b[0mself\u001b[0m\u001b[0;34m.\u001b[0m\u001b[0mmsm\u001b[0m\u001b[0;34m.\u001b[0m\u001b[0mtransition_matrix\u001b[0m\u001b[0;34m,\u001b[0m \u001b[0mself\u001b[0m\u001b[0;34m.\u001b[0m\u001b[0msource\u001b[0m\u001b[0;34m,\u001b[0m \u001b[0mself\u001b[0m\u001b[0;34m.\u001b[0m\u001b[0mtarget\u001b[0m\u001b[0;34m)\u001b[0m\u001b[0;34m\u001b[0m\u001b[0;34m\u001b[0m\u001b[0m\n\u001b[0m\u001b[1;32m     85\u001b[0m         \u001b[0mself\u001b[0m\u001b[0;34m.\u001b[0m\u001b[0mnet_flux\u001b[0m \u001b[0;34m=\u001b[0m \u001b[0mself\u001b[0m\u001b[0;34m.\u001b[0m\u001b[0mReactiveFlux\u001b[0m\u001b[0;34m.\u001b[0m\u001b[0mnet_flux\u001b[0m\u001b[0;34m\u001b[0m\u001b[0;34m\u001b[0m\u001b[0m\n\u001b[1;32m     86\u001b[0m         \u001b[0mself\u001b[0m\u001b[0;34m.\u001b[0m\u001b[0mtotal_flux\u001b[0m \u001b[0;34m=\u001b[0m \u001b[0mself\u001b[0m\u001b[0;34m.\u001b[0m\u001b[0mReactiveFlux\u001b[0m\u001b[0;34m.\u001b[0m\u001b[0mtotal_flux\u001b[0m\u001b[0;34m\u001b[0m\u001b[0;34m\u001b[0m\u001b[0m\n",
      "\u001b[0;32m~/miniconda3/lib/python3.9/site-packages/msmtools/flux/api.py\u001b[0m in \u001b[0;36mtpt\u001b[0;34m(T, A, B, mu, qminus, qplus, rate_matrix)\u001b[0m\n\u001b[1;32m    132\u001b[0m     \u001b[0;31m# stationary dist\u001b[0m\u001b[0;34m\u001b[0m\u001b[0;34m\u001b[0m\u001b[0;34m\u001b[0m\u001b[0m\n\u001b[1;32m    133\u001b[0m     \u001b[0;32mif\u001b[0m \u001b[0mmu\u001b[0m \u001b[0;32mis\u001b[0m \u001b[0;32mNone\u001b[0m\u001b[0;34m:\u001b[0m\u001b[0;34m\u001b[0m\u001b[0;34m\u001b[0m\u001b[0m\n\u001b[0;32m--> 134\u001b[0;31m         \u001b[0mmu\u001b[0m \u001b[0;34m=\u001b[0m \u001b[0mmsmana\u001b[0m\u001b[0;34m.\u001b[0m\u001b[0mstationary_distribution\u001b[0m\u001b[0;34m(\u001b[0m\u001b[0mT\u001b[0m\u001b[0;34m)\u001b[0m\u001b[0;34m\u001b[0m\u001b[0;34m\u001b[0m\u001b[0m\n\u001b[0m\u001b[1;32m    135\u001b[0m     \u001b[0;31m# forward committor\u001b[0m\u001b[0;34m\u001b[0m\u001b[0;34m\u001b[0m\u001b[0;34m\u001b[0m\u001b[0m\n\u001b[1;32m    136\u001b[0m     \u001b[0;32mif\u001b[0m \u001b[0mqplus\u001b[0m \u001b[0;32mis\u001b[0m \u001b[0;32mNone\u001b[0m\u001b[0;34m:\u001b[0m\u001b[0;34m\u001b[0m\u001b[0;34m\u001b[0m\u001b[0m\n",
      "\u001b[0;32m~/miniconda3/lib/python3.9/site-packages/msmtools/analysis/api.py\u001b[0m in \u001b[0;36mstationary_distribution\u001b[0;34m(T)\u001b[0m\n\u001b[1;32m    342\u001b[0m     \u001b[0;31m# is the stationary distribution unique?\u001b[0m\u001b[0;34m\u001b[0m\u001b[0;34m\u001b[0m\u001b[0;34m\u001b[0m\u001b[0m\n\u001b[1;32m    343\u001b[0m     \u001b[0;32mif\u001b[0m \u001b[0;32mnot\u001b[0m \u001b[0mis_connected\u001b[0m\u001b[0;34m(\u001b[0m\u001b[0mT\u001b[0m\u001b[0;34m,\u001b[0m \u001b[0mdirected\u001b[0m\u001b[0;34m=\u001b[0m\u001b[0;32mFalse\u001b[0m\u001b[0;34m)\u001b[0m\u001b[0;34m:\u001b[0m\u001b[0;34m\u001b[0m\u001b[0;34m\u001b[0m\u001b[0m\n\u001b[0;32m--> 344\u001b[0;31m         raise ValueError(\"Input matrix is not weakly connected. \"\n\u001b[0m\u001b[1;32m    345\u001b[0m                          \u001b[0;34m\"Therefore it has no unique stationary \"\u001b[0m\u001b[0;34m\u001b[0m\u001b[0;34m\u001b[0m\u001b[0m\n\u001b[1;32m    346\u001b[0m                          \u001b[0;34m\"distribution. Separate disconnected components \"\u001b[0m\u001b[0;34m\u001b[0m\u001b[0;34m\u001b[0m\u001b[0m\n",
      "\u001b[0;31mValueError\u001b[0m: Input matrix is not weakly connected. Therefore it has no unique stationary distribution. Separate disconnected components and handle them separately"
     ]
    }
   ],
   "source": [
    "# Compute reactive flux between wild type and 7-site mutant.\n",
    "tpt = TransitionPathTheory(evomsm, [0], [127])"
   ]
  },
  {
   "cell_type": "markdown",
   "metadata": {},
   "source": [
    "Now we can use the reactive flux to compute the pathways that go from genotype 0 (0000000) to 127 (1111111) and their relative probabilities."
   ]
  },
  {
   "cell_type": "code",
   "execution_count": 8,
   "metadata": {},
   "outputs": [
    {
     "ename": "NameError",
     "evalue": "name 'tpt' is not defined",
     "output_type": "error",
     "traceback": [
      "\u001b[0;31m---------------------------------------------------------------------------\u001b[0m",
      "\u001b[0;31mNameError\u001b[0m                                 Traceback (most recent call last)",
      "\u001b[0;32m<ipython-input-8-13ee7b351ad5>\u001b[0m in \u001b[0;36m<module>\u001b[0;34m\u001b[0m\n\u001b[0;32m----> 1\u001b[0;31m \u001b[0mpaths\u001b[0m \u001b[0;34m=\u001b[0m \u001b[0mtpt\u001b[0m\u001b[0;34m.\u001b[0m\u001b[0mReactiveFlux\u001b[0m\u001b[0;34m.\u001b[0m\u001b[0mpathways\u001b[0m\u001b[0;34m(\u001b[0m\u001b[0;34m)\u001b[0m\u001b[0;34m\u001b[0m\u001b[0;34m\u001b[0m\u001b[0m\n\u001b[0m",
      "\u001b[0;31mNameError\u001b[0m: name 'tpt' is not defined"
     ]
    }
   ],
   "source": [
    "paths = tpt.ReactiveFlux.pathways()"
   ]
  },
  {
   "cell_type": "markdown",
   "metadata": {},
   "source": [
    "## Visualize Transition Path Theory output"
   ]
  },
  {
   "cell_type": "code",
   "execution_count": 9,
   "metadata": {},
   "outputs": [
    {
     "ename": "NameError",
     "evalue": "name 'paths' is not defined",
     "output_type": "error",
     "traceback": [
      "\u001b[0;31m---------------------------------------------------------------------------\u001b[0m",
      "\u001b[0;31mNameError\u001b[0m                                 Traceback (most recent call last)",
      "\u001b[0;32m<ipython-input-9-33853f0d689a>\u001b[0m in \u001b[0;36m<module>\u001b[0;34m\u001b[0m\n\u001b[1;32m      1\u001b[0m \u001b[0;31m# Sort path probabilities\u001b[0m\u001b[0;34m\u001b[0m\u001b[0;34m\u001b[0m\u001b[0;34m\u001b[0m\u001b[0m\n\u001b[0;32m----> 2\u001b[0;31m \u001b[0mpath_probabilitities\u001b[0m \u001b[0;34m=\u001b[0m \u001b[0msorted\u001b[0m\u001b[0;34m(\u001b[0m\u001b[0mpaths\u001b[0m\u001b[0;34m[\u001b[0m\u001b[0;36m1\u001b[0m\u001b[0;34m]\u001b[0m\u001b[0;34m,\u001b[0m \u001b[0mreverse\u001b[0m\u001b[0;34m=\u001b[0m\u001b[0;32mTrue\u001b[0m\u001b[0;34m)\u001b[0m\u001b[0;34m\u001b[0m\u001b[0;34m\u001b[0m\u001b[0m\n\u001b[0m\u001b[1;32m      3\u001b[0m \u001b[0;34m\u001b[0m\u001b[0m\n\u001b[1;32m      4\u001b[0m \u001b[0;31m# Normalize all paths with probability > 0.001.\u001b[0m\u001b[0;34m\u001b[0m\u001b[0;34m\u001b[0m\u001b[0;34m\u001b[0m\u001b[0m\n\u001b[1;32m      5\u001b[0m \u001b[0mprob_sum\u001b[0m \u001b[0;34m=\u001b[0m \u001b[0msum\u001b[0m\u001b[0;34m(\u001b[0m\u001b[0mpath_probabilitities\u001b[0m\u001b[0;34m)\u001b[0m\u001b[0;34m\u001b[0m\u001b[0;34m\u001b[0m\u001b[0m\n",
      "\u001b[0;31mNameError\u001b[0m: name 'paths' is not defined"
     ]
    }
   ],
   "source": [
    "# Sort path probabilities\n",
    "path_probabilitities = sorted(paths[1], reverse=True)\n",
    "\n",
    "# Normalize all paths with probability > 0.001.\n",
    "prob_sum = sum(path_probabilitities)\n",
    "norm_path_probabilities = [prob/prob_sum for prob in path_probabilitities if prob/prob_sum > 0.001]\n",
    "x = range(len(norm_path_probabilities))\n",
    "\n",
    "# Draw figure\n",
    "figsize=(20,8)\n",
    "fig, (ax1, ax2) = plt.subplots(1, 2, figsize=figsize)\n",
    "\n",
    "# Plot genotype-phenotype map as network.\n",
    "plot_network(evomsm, ax=ax1, figsize=figsize, node_size=200, flux=dok_matrix(tpt.net_flux/tpt.total_flux))\n",
    "\n",
    "ax1.set_title(\"Normalized probability\\nfluxes between top and bottom peak\", size=20)\n",
    "ax1.text(1,-0.05, \"source peak\", size=15)\n",
    "ax1.text(1,-7.1, \"target peak\", size=15)\n",
    "\n",
    "# Plot the probabilities of the most likely paths.\n",
    "ax2.bar(x, norm_path_probabilities, color='0.3')\n",
    "\n",
    "ax2.set_xlabel(\"Paths\", size=20)\n",
    "ax2.set_ylabel(\"Probability\", size=20)\n",
    "ax2.set_title(\"Probability of Paths\", size=20)\n",
    "\n",
    "plt.show()"
   ]
  },
  {
   "cell_type": "markdown",
   "metadata": {},
   "source": [
    "## Coarse-grain genotype-phenotype map using PCCA+.\n",
    "#### If you are using Windows & get an error, try rerunning the cell three times in a row, the error will go away.\n",
    "\n",
    "Next, we use Robust Perron-Cluster Cluster Analysis (PCCA+) to coarse-grain the genotype-phenotype map."
   ]
  },
  {
   "cell_type": "code",
   "execution_count": null,
   "metadata": {},
   "outputs": [],
   "source": [
    "# Cluster genotype-phenotype map into 4 clusters.\n",
    "pcca = PCCA(evomsm, 4)"
   ]
  },
  {
   "cell_type": "markdown",
   "metadata": {},
   "source": [
    "Since PCCA+ might not return the 4 clusters in the order that we prefer, we have to reorder the clusters."
   ]
  },
  {
   "cell_type": "code",
   "execution_count": null,
   "metadata": {},
   "outputs": [],
   "source": [
    "# Find peaks and order them.\n",
    "peaks = sorted([list(peak)[0] for peak in evomsm.peaks()])\n",
    "\n",
    "# Reorder the pcca clusters according to the peak they contain.\n",
    "ord_clusters = sort_clusters_by_nodes(pcca.clusters, peaks)\n",
    "\n",
    "# We simply instantiate a new object for the newly sorted clusters\n",
    "clustering = GenotypePhenotypeClusters(evomsm, ord_clusters)"
   ]
  },
  {
   "cell_type": "code",
   "execution_count": null,
   "metadata": {},
   "outputs": [],
   "source": [
    "# Memberships won't be in order but can be reordered using the command below\n",
    "reordered_row = pcca.memberships[clustering.order, :]\n",
    "reordered_mem = reordered_row[:, [0,1,2,3]]\n",
    "clustering.memberships = reordered_mem"
   ]
  },
  {
   "cell_type": "code",
   "execution_count": null,
   "metadata": {},
   "outputs": [],
   "source": [
    "# Check if sorting was correct by finding the peak in each cluster.\n",
    "string = \"\"\n",
    "for i, cluster in enumerate(clustering.clusters):\n",
    "    for peak in peaks:\n",
    "        if peak in cluster:\n",
    "            string = string + \"Cluster %s: %s (%s)\\n\" % (i, clustering.gpmsm.gpm.data.binary[peak], peak)\n",
    "print(string)"
   ]
  },
  {
   "cell_type": "markdown",
   "metadata": {},
   "source": [
    "## Visualize the metastability of the coarse-grained genotype-phenotype map.\n",
    "\n",
    "If we plot the coarse transition matrix, we see that most of the transition probability is located at the diagonal, i.e. transitions that happen within a cluster are more likely than transitions between clusters. The colorbar on the right is in log10(transition probability)."
   ]
  },
  {
   "cell_type": "code",
   "execution_count": null,
   "metadata": {},
   "outputs": [],
   "source": [
    "# Plot coarse-grained transition matrix.\n",
    "fig, ax = plt.subplots(figsize=(7,5.5))\n",
    "header = 17\n",
    "ax_labels = 15\n",
    "\n",
    "plot_matrix(clustering.transition_matrix, ax=ax, colorbar=True)\n",
    "ax.set_title(\"Coarse-grained transition matrix\", size=header)\n",
    "ax.set_ylabel(\"Clusters\", size=ax_labels)\n",
    "ax.set_xlabel(\"Clusters\", size=ax_labels)\n",
    "ax.set_aspect(\"equal\")\n",
    "\n",
    "plt.tight_layout()"
   ]
  },
  {
   "cell_type": "markdown",
   "metadata": {},
   "source": [
    "## Analyze evolutionary mechanisms along fitness peaks.\n",
    "\n",
    "Finally, we can analyze evolutionary trajectories that pass genotypes of interest. In this example we will look at the trajectories that pass through peak 2 on their way to peak 4 (1-2-4). We split the trajectories into the part between peak 1 and 2 and the part between peak 2 and 4. We find that the sub-trajectories between 2 and 4 are much less constrained than the ones between 1 and 2, which we quantify by calculating the mean path divergence."
   ]
  },
  {
   "cell_type": "code",
   "execution_count": null,
   "metadata": {},
   "outputs": [],
   "source": [
    "# First get normalized path probabilities as dict\n",
    "path_probs = paths_and_probs_to_dict(paths[0], paths[1], normalize=True)\n",
    "all_paths = list(path_probs.keys())\n",
    "\n",
    "# Path 1-2-4\n",
    "paths124 = paths_that_do_not_contain(paths_that_contain(all_paths, [0,14,127], bool_and=True), [101])\n",
    "paths124_probs = {path: path_probs[path] for path in paths124}\n",
    "mpd124 = mean_path_divergence(evomsm, paths124_probs)\n",
    "entr124 = entropy(list(paths124_probs.values()))\n",
    "\n",
    "## Segment 1-2\n",
    "paths124_12 = get_sub_paths(paths124_probs, 0, 14)\n",
    "mdp124_12 = mean_path_divergence(evomsm, paths124_12)\n",
    "## Segment 2-4\n",
    "paths124_24 = get_sub_paths(paths124_probs, 14, 127)\n",
    "mdp124_24 = mean_path_divergence(evomsm, paths124_24)\n",
    "\n",
    "print(\"Path\\tPath count\\tMean Path Divergence\\n%s\\t%s\\t\\t%s\\n%s\\t%s\\t\\t%s\\n%s\\t%s\\t\\t%s\" % (\"1-2\", \n",
    "                                                                                            len(paths124_12), \n",
    "                                                                                            round(mdp124_12,2), \n",
    "                                                                                            \"2-4\", len(paths124_24), \n",
    "                                                                                            round(mdp124_24,2), \n",
    "                                                                                            \"1-2-4\", \n",
    "                                                                                            len(paths124), \n",
    "                                                                                            round(mpd124, 2)))\n"
   ]
  }
 ],
 "metadata": {
  "kernelspec": {
   "display_name": "Python 3",
   "language": "python",
   "name": "python3"
  },
  "language_info": {
   "codemirror_mode": {
    "name": "ipython",
    "version": 3
   },
   "file_extension": ".py",
   "mimetype": "text/x-python",
   "name": "python",
   "nbconvert_exporter": "python",
   "pygments_lexer": "ipython3",
   "version": "3.9.5"
  }
 },
 "nbformat": 4,
 "nbformat_minor": 4
}
