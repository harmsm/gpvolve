{
 "cells": [
  {
   "cell_type": "markdown",
   "id": "6c03b126-703f-49b8-9741-b20948b0cd78",
   "metadata": {},
   "source": [
    "# Introduction to `gpvolve` library"
   ]
  },
  {
   "cell_type": "markdown",
   "id": "51a1c479-c933-461b-99f8-f6f0a94d348b",
   "metadata": {},
   "source": [
    "## 1. Generating a sample genotype-phenotype map using `gpmap`"
   ]
  },
  {
   "cell_type": "markdown",
   "id": "63ebcb14-17d4-4212-9a07-cb6df17a2c6f",
   "metadata": {},
   "source": [
    "Let's start by simulating a random genotype-phenotype map using `gpmap` and computing its genotypes' neighbors (genotypes that can be reached by others through a single mutation, not computed automatically)."
   ]
  },
  {
   "cell_type": "code",
   "execution_count": 1,
   "id": "50ef622f-fb02-4742-8c8e-8b56f2053555",
   "metadata": {},
   "outputs": [
    {
     "name": "stderr",
     "output_type": "stream",
     "text": [
      "/home/luis/Documents/Github/gpvolve/gpvolve/simulate/wright_fisher/wright_fisher_engine.py:23: UserWarning: Could not load cython version of wright_fisher_engine. Falling\n",
      "back on python version (same functionality, much slower)\n",
      ".\n",
      "  warnings.warn(w)\n"
     ]
    }
   ],
   "source": [
    "import gpvolve\n",
    "import gpmap"
   ]
  },
  {
   "cell_type": "code",
   "execution_count": 2,
   "id": "d5092bf6-2865-4949-a3e1-c8d7468bf9c8",
   "metadata": {},
   "outputs": [],
   "source": [
    "gpm = gpmap.simulate.generate_nk(gpm_output_column='phenotype',\n",
    "                                 k=0,\n",
    "                                 num_sites=6,\n",
    "                                 num_states_per_site=2)\n",
    "gpm.get_neighbors()"
   ]
  },
  {
   "cell_type": "markdown",
   "id": "e5ac670e-59dd-43fe-be8c-d4fe44480064",
   "metadata": {},
   "source": [
    "* The data inside the `gpmap` object is stored in two pandas dataframes, `gpm.data` and `gpm.neighbors`. \n",
    "* `gpvolve` both uses and builds on top of these dataframes to ensure full compatibility."
   ]
  },
  {
   "cell_type": "code",
   "execution_count": 3,
   "id": "0f17c786-64c7-4d67-b281-16ba7b0e20cf",
   "metadata": {},
   "outputs": [
    {
     "data": {
      "text/html": [
       "<div>\n",
       "<style scoped>\n",
       "    .dataframe tbody tr th:only-of-type {\n",
       "        vertical-align: middle;\n",
       "    }\n",
       "\n",
       "    .dataframe tbody tr th {\n",
       "        vertical-align: top;\n",
       "    }\n",
       "\n",
       "    .dataframe thead th {\n",
       "        text-align: right;\n",
       "    }\n",
       "</style>\n",
       "<table border=\"1\" class=\"dataframe\">\n",
       "  <thead>\n",
       "    <tr style=\"text-align: right;\">\n",
       "      <th></th>\n",
       "      <th>genotype</th>\n",
       "      <th>include</th>\n",
       "      <th>binary</th>\n",
       "      <th>n_mutations</th>\n",
       "      <th>name</th>\n",
       "      <th>phenotype</th>\n",
       "    </tr>\n",
       "  </thead>\n",
       "  <tbody>\n",
       "    <tr>\n",
       "      <th>0</th>\n",
       "      <td>DKIQHW</td>\n",
       "      <td>True</td>\n",
       "      <td>000000</td>\n",
       "      <td>0</td>\n",
       "      <td>wildtype</td>\n",
       "      <td>4.163618</td>\n",
       "    </tr>\n",
       "    <tr>\n",
       "      <th>1</th>\n",
       "      <td>DKIQHQ</td>\n",
       "      <td>True</td>\n",
       "      <td>000001</td>\n",
       "      <td>1</td>\n",
       "      <td>W5Q</td>\n",
       "      <td>4.420293</td>\n",
       "    </tr>\n",
       "    <tr>\n",
       "      <th>2</th>\n",
       "      <td>DKIQIW</td>\n",
       "      <td>True</td>\n",
       "      <td>000010</td>\n",
       "      <td>1</td>\n",
       "      <td>H4I</td>\n",
       "      <td>4.420293</td>\n",
       "    </tr>\n",
       "    <tr>\n",
       "      <th>3</th>\n",
       "      <td>DKIQIQ</td>\n",
       "      <td>True</td>\n",
       "      <td>000011</td>\n",
       "      <td>2</td>\n",
       "      <td>H4I/W5Q</td>\n",
       "      <td>4.676968</td>\n",
       "    </tr>\n",
       "    <tr>\n",
       "      <th>4</th>\n",
       "      <td>DKICHW</td>\n",
       "      <td>True</td>\n",
       "      <td>000100</td>\n",
       "      <td>1</td>\n",
       "      <td>Q3C</td>\n",
       "      <td>4.420293</td>\n",
       "    </tr>\n",
       "  </tbody>\n",
       "</table>\n",
       "</div>"
      ],
      "text/plain": [
       "  genotype  include  binary  n_mutations      name  phenotype\n",
       "0   DKIQHW     True  000000            0  wildtype   4.163618\n",
       "1   DKIQHQ     True  000001            1       W5Q   4.420293\n",
       "2   DKIQIW     True  000010            1       H4I   4.420293\n",
       "3   DKIQIQ     True  000011            2   H4I/W5Q   4.676968\n",
       "4   DKICHW     True  000100            1       Q3C   4.420293"
      ]
     },
     "execution_count": 3,
     "metadata": {},
     "output_type": "execute_result"
    }
   ],
   "source": [
    "# Observe the underlying dataframes\n",
    "gpm.data.head()"
   ]
  },
  {
   "cell_type": "code",
   "execution_count": 4,
   "id": "dec15464-7b4e-49b6-b3c2-bb92a9b9fd84",
   "metadata": {},
   "outputs": [
    {
     "data": {
      "text/html": [
       "<div>\n",
       "<style scoped>\n",
       "    .dataframe tbody tr th:only-of-type {\n",
       "        vertical-align: middle;\n",
       "    }\n",
       "\n",
       "    .dataframe tbody tr th {\n",
       "        vertical-align: top;\n",
       "    }\n",
       "\n",
       "    .dataframe thead th {\n",
       "        text-align: right;\n",
       "    }\n",
       "</style>\n",
       "<table border=\"1\" class=\"dataframe\">\n",
       "  <thead>\n",
       "    <tr style=\"text-align: right;\">\n",
       "      <th></th>\n",
       "      <th>edge</th>\n",
       "      <th>include</th>\n",
       "      <th>source</th>\n",
       "      <th>target</th>\n",
       "      <th>direction</th>\n",
       "    </tr>\n",
       "  </thead>\n",
       "  <tbody>\n",
       "    <tr>\n",
       "      <th>0</th>\n",
       "      <td>(0, 0)</td>\n",
       "      <td>True</td>\n",
       "      <td>0</td>\n",
       "      <td>0</td>\n",
       "      <td>0</td>\n",
       "    </tr>\n",
       "    <tr>\n",
       "      <th>1</th>\n",
       "      <td>(0, 1)</td>\n",
       "      <td>True</td>\n",
       "      <td>0</td>\n",
       "      <td>1</td>\n",
       "      <td>1</td>\n",
       "    </tr>\n",
       "    <tr>\n",
       "      <th>2</th>\n",
       "      <td>(1, 0)</td>\n",
       "      <td>True</td>\n",
       "      <td>1</td>\n",
       "      <td>0</td>\n",
       "      <td>-1</td>\n",
       "    </tr>\n",
       "    <tr>\n",
       "      <th>3</th>\n",
       "      <td>(0, 2)</td>\n",
       "      <td>True</td>\n",
       "      <td>0</td>\n",
       "      <td>2</td>\n",
       "      <td>1</td>\n",
       "    </tr>\n",
       "    <tr>\n",
       "      <th>4</th>\n",
       "      <td>(2, 0)</td>\n",
       "      <td>True</td>\n",
       "      <td>2</td>\n",
       "      <td>0</td>\n",
       "      <td>-1</td>\n",
       "    </tr>\n",
       "  </tbody>\n",
       "</table>\n",
       "</div>"
      ],
      "text/plain": [
       "     edge  include  source  target  direction\n",
       "0  (0, 0)     True       0       0          0\n",
       "1  (0, 1)     True       0       1          1\n",
       "2  (1, 0)     True       1       0         -1\n",
       "3  (0, 2)     True       0       2          1\n",
       "4  (2, 0)     True       2       0         -1"
      ]
     },
     "execution_count": 4,
     "metadata": {},
     "output_type": "execute_result"
    }
   ],
   "source": [
    "# Neighbors dataframe\n",
    "gpm.neighbors.head()"
   ]
  },
  {
   "cell_type": "markdown",
   "id": "320adcf9-03ba-415e-97ad-c4c47b7e10ca",
   "metadata": {},
   "source": [
    "#### Important notes:\n",
    "\n",
    "`gpm.data` and `gpm.neighbors` are pandas dataframes, meaning they can generally be accessed, edited, and sliced in standard pandas fashion. To allow *gpmap* to keep the two dataframes in sync, there are a few limits. Primarily, these are: 1) edit rows and columns using pandas `inplace` operations, 2) do not manually edit the reserved columns mentioned above, and 3) do not manually alter the row indexes for either dataframe. (See the *Rules of the Road* section for more details). \n",
    "\n",
    "*See `gpmap` documentation for a more in-depth description.*"
   ]
  },
  {
   "cell_type": "markdown",
   "id": "3297f71b-3c03-4d78-9bc1-e4df560385f2",
   "metadata": {},
   "source": [
    "## 2. Adding a `fitness` column to `gpmap` data\n",
    "\n",
    "`gpvolve` references the fitness column for all its calculations, so you must make sure the genotype-phenotype map contains a column labeled `fitness`. It is up to the user to calculate and add this to `gpm.data`.\n",
    "\n",
    "<span style=\"color:red\"><b>To use `gpvolve`, a \"fitness\" column must be present on `gpm.data`.</b></span>"
   ]
  },
  {
   "cell_type": "markdown",
   "id": "7b4b8c77-8c2a-4b43-a05c-3a3081f1a098",
   "metadata": {},
   "source": [
    "### Phenotype to fitness functions\n",
    "\n",
    "`gpvolve` includes a collection of functions to convert phenotype to fitness. Let's start by importing one of these functions:"
   ]
  },
  {
   "cell_type": "code",
   "execution_count": 5,
   "id": "c0f87e97-2345-4150-ae13-f878257f1d16",
   "metadata": {},
   "outputs": [],
   "source": [
    "from gpvolve.phenotype_to_fitness import linear"
   ]
  },
  {
   "cell_type": "markdown",
   "id": "d5767fbd-8071-48d1-97b1-05261afb6987",
   "metadata": {},
   "source": [
    "Now calculate the fitness values based on this function and add a new `fitness` column to the `gpm.data` dataframe using pandas `in-place` operations."
   ]
  },
  {
   "cell_type": "code",
   "execution_count": 6,
   "id": "c80795e1-c87e-4c3a-9866-daddc4a56e48",
   "metadata": {},
   "outputs": [],
   "source": [
    "# Calculate fitness values using linear function (y=ax+b)\n",
    "fitnesses = linear(gpm.data.phenotype, a=1, b=1)\n",
    "\n",
    "# Add fitness values column to gpm.data pandas data frame using pandas in-place operations\n",
    "gpm.data.loc[:,\"fitness\"] = fitnesses"
   ]
  },
  {
   "cell_type": "markdown",
   "id": "3bed9d81-1a85-415d-bba5-b3617249e986",
   "metadata": {},
   "source": [
    "Notice that dataframe now includes fitness values"
   ]
  },
  {
   "cell_type": "code",
   "execution_count": 7,
   "id": "54df012f-b5d9-4286-b40e-2527d73bdf50",
   "metadata": {},
   "outputs": [
    {
     "data": {
      "text/html": [
       "<div>\n",
       "<style scoped>\n",
       "    .dataframe tbody tr th:only-of-type {\n",
       "        vertical-align: middle;\n",
       "    }\n",
       "\n",
       "    .dataframe tbody tr th {\n",
       "        vertical-align: top;\n",
       "    }\n",
       "\n",
       "    .dataframe thead th {\n",
       "        text-align: right;\n",
       "    }\n",
       "</style>\n",
       "<table border=\"1\" class=\"dataframe\">\n",
       "  <thead>\n",
       "    <tr style=\"text-align: right;\">\n",
       "      <th></th>\n",
       "      <th>genotype</th>\n",
       "      <th>include</th>\n",
       "      <th>binary</th>\n",
       "      <th>n_mutations</th>\n",
       "      <th>name</th>\n",
       "      <th>phenotype</th>\n",
       "      <th>fitness</th>\n",
       "    </tr>\n",
       "  </thead>\n",
       "  <tbody>\n",
       "    <tr>\n",
       "      <th>0</th>\n",
       "      <td>DKIQHW</td>\n",
       "      <td>True</td>\n",
       "      <td>000000</td>\n",
       "      <td>0</td>\n",
       "      <td>wildtype</td>\n",
       "      <td>4.163618</td>\n",
       "      <td>5.163618</td>\n",
       "    </tr>\n",
       "    <tr>\n",
       "      <th>1</th>\n",
       "      <td>DKIQHQ</td>\n",
       "      <td>True</td>\n",
       "      <td>000001</td>\n",
       "      <td>1</td>\n",
       "      <td>W5Q</td>\n",
       "      <td>4.420293</td>\n",
       "      <td>5.420293</td>\n",
       "    </tr>\n",
       "    <tr>\n",
       "      <th>2</th>\n",
       "      <td>DKIQIW</td>\n",
       "      <td>True</td>\n",
       "      <td>000010</td>\n",
       "      <td>1</td>\n",
       "      <td>H4I</td>\n",
       "      <td>4.420293</td>\n",
       "      <td>5.420293</td>\n",
       "    </tr>\n",
       "    <tr>\n",
       "      <th>3</th>\n",
       "      <td>DKIQIQ</td>\n",
       "      <td>True</td>\n",
       "      <td>000011</td>\n",
       "      <td>2</td>\n",
       "      <td>H4I/W5Q</td>\n",
       "      <td>4.676968</td>\n",
       "      <td>5.676968</td>\n",
       "    </tr>\n",
       "    <tr>\n",
       "      <th>4</th>\n",
       "      <td>DKICHW</td>\n",
       "      <td>True</td>\n",
       "      <td>000100</td>\n",
       "      <td>1</td>\n",
       "      <td>Q3C</td>\n",
       "      <td>4.420293</td>\n",
       "      <td>5.420293</td>\n",
       "    </tr>\n",
       "  </tbody>\n",
       "</table>\n",
       "</div>"
      ],
      "text/plain": [
       "  genotype  include  binary  n_mutations      name  phenotype   fitness\n",
       "0   DKIQHW     True  000000            0  wildtype   4.163618  5.163618\n",
       "1   DKIQHQ     True  000001            1       W5Q   4.420293  5.420293\n",
       "2   DKIQIW     True  000010            1       H4I   4.420293  5.420293\n",
       "3   DKIQIQ     True  000011            2   H4I/W5Q   4.676968  5.676968\n",
       "4   DKICHW     True  000100            1       Q3C   4.420293  5.420293"
      ]
     },
     "execution_count": 7,
     "metadata": {},
     "output_type": "execute_result"
    }
   ],
   "source": [
    "gpm.data.head()"
   ]
  },
  {
   "cell_type": "markdown",
   "id": "1a9dece0-c2ca-4a6a-adc2-1ccbddaa6317",
   "metadata": {},
   "source": [
    "## 3. Generate transition matrix\n",
    "\n",
    "The first core functionality of `gpvolve` is to generate a stochastic transition matrix for evolution across genotypes given the fitness of each genotype, their connectivity, the population size, and a fixation model.\n",
    "\n",
    "--> The gpvolve object must contain a fitness \n",
    "\n"
   ]
  },
  {
   "cell_type": "code",
   "execution_count": 8,
   "id": "a30af6d2-2622-43dd-b579-c8e36aa1c270",
   "metadata": {},
   "outputs": [],
   "source": [
    "T = gpvolve.build_transition_matrix(gpm, fixation_model='moran')"
   ]
  },
  {
   "cell_type": "markdown",
   "id": "0115189a-6822-4a34-b933-e32f2db23633",
   "metadata": {},
   "source": [
    "Notes:\n",
    "If only a genotype-phenotype map is passed to the function, it assumes that the fixation model is the Moran model proposed by Sella and Hirsch (2005) and a population size of 1000.\n",
    "`References:`\n",
    "G. Sella, A. E. Hirsh: The application of statistical physics to evolutionary biology, Proceedings of the National Academy of Sciences Jul 2005, 102 (27) 9541-9546."
   ]
  },
  {
   "cell_type": "markdown",
   "id": "cb1fb822-6220-4093-b04b-10d6748ff4b5",
   "metadata": {},
   "source": [
    "## 4. Clustering with PCCA\n",
    "\n",
    "The second core functionality of `gpvolve` is to use Robust Perron Cluster Analysis (PCCA+) to obtain fuzzy clustering of genotypes in a genotype-phenotype map using its transition probability matrix as input. \n",
    "\n",
    "*Note: Fuzzy clustering means that items in the same cluster are as similar as possible, while items belonging to different clusters are as dissimilar as possible*\n",
    "\n",
    "`References:`\n",
    "Roeblitz, S and M Weber. **2013**. Fuzzy spectral clustering by PCCA+: application to Markov state models and data classification. *Advances in Data Analysis and Classification* **7** (2): 147-179"
   ]
  },
  {
   "cell_type": "markdown",
   "id": "b6be1cda-1f6b-4778-b310-0dffbe3630f6",
   "metadata": {},
   "source": [
    "### Optimal number of clusters\n",
    "\n",
    "Weber et al. showed that even in a non-deal case, PCCA+ delivers a fuzzy clustering that satisfies an optimality criterion. Here, those criteria have been adapted to yield a rough estimate for how many clusters the data should be divided in. \n",
    "\n",
    "Let's start by importing the optimization function in the `gpvolve.cluster` submodule:"
   ]
  },
  {
   "cell_type": "code",
   "execution_count": 9,
   "id": "d4823603-a63f-4517-b6e7-01ec41ad4c22",
   "metadata": {},
   "outputs": [],
   "source": [
    "from gpvolve.cluster import optimize"
   ]
  },
  {
   "cell_type": "markdown",
   "id": "2f48ed75-b19c-4135-8da7-6c0080627367",
   "metadata": {},
   "source": [
    "Now, find the optimal number of clusters for our data using the spectral gap. \n",
    "* The general idea for this criterion is that for $n_c$ well-separated clusters there will be a significant gap between $\\lambda_{n_c}$ and $\\lambda_{n_c + 1}$"
   ]
  },
  {
   "cell_type": "code",
   "execution_count": 10,
   "id": "5c52c025-27ca-44c8-8f2a-dd11c2e3e06c",
   "metadata": {},
   "outputs": [
    {
     "name": "stdout",
     "output_type": "stream",
     "text": [
      "Optimal number of clusters is: 20\n"
     ]
    }
   ],
   "source": [
    "optimal_num_clusters = optimize(T, criterion='Spectral gap')\n",
    "print(f\"Optimal number of clusters is: {optimal_num_clusters}\")"
   ]
  },
  {
   "cell_type": "markdown",
   "id": "d0d7455d-30c2-4a60-b8f7-e541e3bf01bd",
   "metadata": {},
   "source": [
    "### Add clustering information to dataframe\n",
    "\n",
    "PCCA+ delivers a fuzzy clustering in terms of membership vectors as a linear transformation of eigenvectors of some transition probability matrix representing a Markov chain on the genotypes to be clustered.\n",
    "\n",
    "This data can be added to the `gpm.data` dataframe for later use by using either one of the following functions:\n",
    "* **membership** : membership vectors\n",
    "* **assignment** : which clusters does given genotype belong to (very useful for plotting purposes)"
   ]
  },
  {
   "cell_type": "code",
   "execution_count": 11,
   "id": "28cd971f-8121-41fb-9181-37272473631f",
   "metadata": {},
   "outputs": [],
   "source": [
    "from gpvolve.cluster import membership, assignment"
   ]
  },
  {
   "cell_type": "markdown",
   "id": "81895a88-b2f8-4421-866b-065e65b65005",
   "metadata": {},
   "source": [
    "Pass the `gpmap` object to functions to automatically add the data to the dataframe"
   ]
  },
  {
   "cell_type": "code",
   "execution_count": 12,
   "id": "5484b6fc-a343-4bc9-afaa-338116305e75",
   "metadata": {},
   "outputs": [
    {
     "name": "stderr",
     "output_type": "stream",
     "text": [
      "/home/luis/anaconda3/envs/main/lib/python3.7/site-packages/msmtools-1.2.6-py3.7-linux-x86_64.egg/msmtools/analysis/dense/pcca.py:284: ComplexWarning: Casting complex values to real discards the imaginary part\n",
      "  evecs[:, i] /= math.sqrt(np.dot(evecs[:, i] * pi, evecs[:, i]))\n"
     ]
    }
   ],
   "source": [
    "memberships = membership(T, n=optimal_num_clusters, gpm=gpm)"
   ]
  },
  {
   "cell_type": "code",
   "execution_count": 13,
   "id": "de220bb4-8ed9-4d36-93d3-372608c432eb",
   "metadata": {},
   "outputs": [],
   "source": [
    "assignments = assignment(T, n=optimal_num_clusters, gpm=gpm)"
   ]
  },
  {
   "cell_type": "markdown",
   "id": "6e208c13-b234-4743-9bb4-ca00f8a3de16",
   "metadata": {},
   "source": [
    "Observe that `gpm.data` now has two new columns, `membership` and `assignment`:"
   ]
  },
  {
   "cell_type": "code",
   "execution_count": 14,
   "id": "07cd4110-2dca-487b-ae12-15cf0ca796ab",
   "metadata": {},
   "outputs": [
    {
     "data": {
      "text/html": [
       "<div>\n",
       "<style scoped>\n",
       "    .dataframe tbody tr th:only-of-type {\n",
       "        vertical-align: middle;\n",
       "    }\n",
       "\n",
       "    .dataframe tbody tr th {\n",
       "        vertical-align: top;\n",
       "    }\n",
       "\n",
       "    .dataframe thead th {\n",
       "        text-align: right;\n",
       "    }\n",
       "</style>\n",
       "<table border=\"1\" class=\"dataframe\">\n",
       "  <thead>\n",
       "    <tr style=\"text-align: right;\">\n",
       "      <th></th>\n",
       "      <th>genotype</th>\n",
       "      <th>include</th>\n",
       "      <th>binary</th>\n",
       "      <th>n_mutations</th>\n",
       "      <th>name</th>\n",
       "      <th>phenotype</th>\n",
       "      <th>fitness</th>\n",
       "      <th>membership</th>\n",
       "      <th>assignment</th>\n",
       "    </tr>\n",
       "  </thead>\n",
       "  <tbody>\n",
       "    <tr>\n",
       "      <th>0</th>\n",
       "      <td>DKIQHW</td>\n",
       "      <td>True</td>\n",
       "      <td>000000</td>\n",
       "      <td>0</td>\n",
       "      <td>wildtype</td>\n",
       "      <td>4.163618</td>\n",
       "      <td>5.163618</td>\n",
       "      <td>[0.0097123302356193, 0.0503399312532811, 0.032...</td>\n",
       "      <td>11</td>\n",
       "    </tr>\n",
       "    <tr>\n",
       "      <th>1</th>\n",
       "      <td>DKIQHQ</td>\n",
       "      <td>True</td>\n",
       "      <td>000001</td>\n",
       "      <td>1</td>\n",
       "      <td>W5Q</td>\n",
       "      <td>4.420293</td>\n",
       "      <td>5.420293</td>\n",
       "      <td>[0.010152973850683197, 0.10194030756974558, 0....</td>\n",
       "      <td>11</td>\n",
       "    </tr>\n",
       "    <tr>\n",
       "      <th>2</th>\n",
       "      <td>DKIQIW</td>\n",
       "      <td>True</td>\n",
       "      <td>000010</td>\n",
       "      <td>1</td>\n",
       "      <td>H4I</td>\n",
       "      <td>4.420293</td>\n",
       "      <td>5.420293</td>\n",
       "      <td>[0.017574676643138686, 0.028765523706097557, 0...</td>\n",
       "      <td>11</td>\n",
       "    </tr>\n",
       "    <tr>\n",
       "      <th>3</th>\n",
       "      <td>DKIQIQ</td>\n",
       "      <td>True</td>\n",
       "      <td>000011</td>\n",
       "      <td>2</td>\n",
       "      <td>H4I/W5Q</td>\n",
       "      <td>4.676968</td>\n",
       "      <td>5.676968</td>\n",
       "      <td>[0.023589161343386664, 0.05033993125328138, 0....</td>\n",
       "      <td>7</td>\n",
       "    </tr>\n",
       "    <tr>\n",
       "      <th>4</th>\n",
       "      <td>DKICHW</td>\n",
       "      <td>True</td>\n",
       "      <td>000100</td>\n",
       "      <td>1</td>\n",
       "      <td>Q3C</td>\n",
       "      <td>4.420293</td>\n",
       "      <td>5.420293</td>\n",
       "      <td>[0.031597587457345304, 0.03142034448743147, 0....</td>\n",
       "      <td>11</td>\n",
       "    </tr>\n",
       "  </tbody>\n",
       "</table>\n",
       "</div>"
      ],
      "text/plain": [
       "  genotype  include  binary  n_mutations      name  phenotype   fitness  \\\n",
       "0   DKIQHW     True  000000            0  wildtype   4.163618  5.163618   \n",
       "1   DKIQHQ     True  000001            1       W5Q   4.420293  5.420293   \n",
       "2   DKIQIW     True  000010            1       H4I   4.420293  5.420293   \n",
       "3   DKIQIQ     True  000011            2   H4I/W5Q   4.676968  5.676968   \n",
       "4   DKICHW     True  000100            1       Q3C   4.420293  5.420293   \n",
       "\n",
       "                                          membership  assignment  \n",
       "0  [0.0097123302356193, 0.0503399312532811, 0.032...          11  \n",
       "1  [0.010152973850683197, 0.10194030756974558, 0....          11  \n",
       "2  [0.017574676643138686, 0.028765523706097557, 0...          11  \n",
       "3  [0.023589161343386664, 0.05033993125328138, 0....           7  \n",
       "4  [0.031597587457345304, 0.03142034448743147, 0....          11  "
      ]
     },
     "execution_count": 14,
     "metadata": {},
     "output_type": "execute_result"
    }
   ],
   "source": [
    "gpm.data.head()"
   ]
  },
  {
   "cell_type": "markdown",
   "id": "6187b7f8-960d-4f5d-93c4-36fc685e9d17",
   "metadata": {},
   "source": [
    "## 5. Plotting clusters "
   ]
  },
  {
   "cell_type": "code",
   "execution_count": null,
   "id": "cd8cdd10-37ef-4c93-9c76-17da222ecb6e",
   "metadata": {},
   "outputs": [],
   "source": []
  }
 ],
 "metadata": {
  "kernelspec": {
   "display_name": "Main",
   "language": "python",
   "name": "main"
  },
  "language_info": {
   "codemirror_mode": {
    "name": "ipython",
    "version": 3
   },
   "file_extension": ".py",
   "mimetype": "text/x-python",
   "name": "python",
   "nbconvert_exporter": "python",
   "pygments_lexer": "ipython3",
   "version": "3.7.11"
  }
 },
 "nbformat": 4,
 "nbformat_minor": 5
}
